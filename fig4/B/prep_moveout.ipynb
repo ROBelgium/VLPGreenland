{
 "cells": [
  {
   "cell_type": "code",
   "execution_count": 1,
   "metadata": {},
   "outputs": [],
   "source": [
    "import numpy as np\n",
    "import torch\n",
    "from pathlib import Path\n",
    "from obspy import UTCDateTime, read_inventory, Inventory, read\n",
    "from tqdm import tqdm\n",
    "from geokernels.distance import geodist\n",
    "\n",
    "# contains preprocessed waveforms (output of prep.py)\n",
    "waveform_dir = \"waveforms_prep/\"\n",
    "# contains station metadata (output of download.py)\n",
    "station_dir = \"stations/\"\n",
    "\n",
    "# landslide coordinates from Google Earth\n",
    "loc_reference = -26.9621, 72.8087\n",
    "\n",
    "event_time = UTCDateTime(\"2023-09-16T12:35:00.0Z\")\n",
    "window_length = 24 * 3600"
   ]
  },
  {
   "cell_type": "code",
   "execution_count": 2,
   "metadata": {},
   "outputs": [
    {
     "name": "stdout",
     "output_type": "stream",
     "text": [
      "coordinates available for 1488 stations\n"
     ]
    },
    {
     "name": "stderr",
     "output_type": "stream",
     "text": [
      "1488it [00:58, 25.62it/s]"
     ]
    },
    {
     "name": "stdout",
     "output_type": "stream",
     "text": [
      "waveforms loaded for 1440 stations in 1488 time windows\n"
     ]
    },
    {
     "name": "stderr",
     "output_type": "stream",
     "text": [
      "\n"
     ]
    }
   ],
   "source": [
    "# list of stations for which prepped waveforms are available\n",
    "stations_prepped = [\n",
    "    x.name.removesuffix(\".mseed\") for x in Path(waveform_dir).glob(\"*.mseed\")\n",
    "]\n",
    "\n",
    "# parse inventory for only those\n",
    "inv = read_inventory(f\"{station_dir}/*\")\n",
    "prepped_inv = Inventory()\n",
    "for sta in sorted(stations_prepped):\n",
    "    prepped_inv += inv.select(\n",
    "        network=f\"{sta.split('.')[0]}\",\n",
    "        station=f\"{sta.split('.')[1]}\",\n",
    "    )\n",
    "\n",
    "# extract array coordinates, and remember order of coordinates\n",
    "coordinates = []\n",
    "coordinates_stations = []\n",
    "for net in prepped_inv:\n",
    "    for sta in net:\n",
    "        # skip duplicates\n",
    "        if f\"{net.code}.{sta.code}\" in coordinates_stations:\n",
    "            continue\n",
    "        coordinates.append([sta.longitude, sta.latitude])\n",
    "        coordinates_stations.append(f\"{net.code}.{sta.code}\")\n",
    "coordinates = torch.tensor(np.array(coordinates))\n",
    "\n",
    "print(f\"coordinates available for {len(coordinates)} stations\")\n",
    "\n",
    "# make sure to load data in order of coordinates_stations\n",
    "waveforms = torch.zeros(len(coordinates_stations), int(window_length * 0.1))\n",
    "used_coords = []\n",
    "for sta_idx, sta in tqdm(enumerate(coordinates_stations)):\n",
    "    st = read(f\"{waveform_dir}/{sta}.mseed\")\n",
    "    # should not fail, because prep.py produces single-trace seismograms for each station\n",
    "    tr = st.select(channel=\"*Z\")[0]\n",
    "    tr.trim(\n",
    "        starttime=event_time - 3600,\n",
    "        endtime=event_time + window_length,\n",
    "        pad=True,\n",
    "        fill_value=0,\n",
    "    )\n",
    "\n",
    "    waveforms[sta_idx, :] = torch.tensor(\n",
    "        tr.data[: int(window_length * tr.stats.sampling_rate)]\n",
    "    )\n",
    "\n",
    "print(\n",
    "    f\"waveforms loaded for {waveforms.shape[1]} stations in {waveforms.shape[0]} time windows\"\n",
    ")"
   ]
  },
  {
   "cell_type": "code",
   "execution_count": 3,
   "metadata": {},
   "outputs": [],
   "source": [
    "# expand loc_reference to same shape as coordinates\n",
    "loc_reference_e = torch.tensor(loc_reference).flip(0).expand(coordinates.shape)\n",
    "distances_to_reference = torch.tensor(\n",
    "    geodist(coordinates.flip(1), loc_reference_e, metric=\"km\")\n",
    ")\n",
    "# sort wavefr\n",
    "distances_to_reference_sort, sort_idx = torch.sort(distances_to_reference)\n",
    "waveforms_sort = waveforms[sort_idx, :]\n",
    "coordinates_sort = coordinates[sort_idx, :]\n",
    "coordinates_stations_sort = np.array(coordinates_stations)[sort_idx]\n",
    "# distances_to_reference_sort = distances_to_reference[sort_idx]"
   ]
  },
  {
   "cell_type": "code",
   "execution_count": 4,
   "metadata": {},
   "outputs": [],
   "source": [
    "# save to use in plot_fig4B.py\n",
    "torch.save(\n",
    "    {\n",
    "        \"waveforms\": waveforms_sort,\n",
    "        \"coordinates\": coordinates_sort,\n",
    "        \"station_names\": coordinates_stations_sort,\n",
    "        \"distances_to_reference\": distances_to_reference_sort,\n",
    "    },\n",
    "    \"waveforms_24h.pt\",\n",
    ")"
   ]
  }
 ],
 "metadata": {
  "kernelspec": {
   "display_name": "311",
   "language": "python",
   "name": "python3"
  },
  "language_info": {
   "codemirror_mode": {
    "name": "ipython",
    "version": 3
   },
   "file_extension": ".py",
   "mimetype": "text/x-python",
   "name": "python",
   "nbconvert_exporter": "python",
   "pygments_lexer": "ipython3",
   "version": "3.11.0"
  }
 },
 "nbformat": 4,
 "nbformat_minor": 2
}
