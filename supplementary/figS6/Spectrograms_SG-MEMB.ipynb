{
 "cells": [
  {
   "cell_type": "code",
   "execution_count": 1,
   "metadata": {
    "colab": {
     "base_uri": "https://localhost:8080/",
     "height": 618
    },
    "executionInfo": {
     "elapsed": 15494,
     "status": "ok",
     "timestamp": 1701733476564,
     "user": {
      "displayName": "AurÃ©lien Mordret",
      "userId": "03158819886253845071"
     },
     "user_tz": -60
    },
    "id": "euHKeV9dpZ6j",
    "outputId": "e491fd28-1a50-4ca3-dd36-2f06639c0a9b"
   },
   "outputs": [
    {
     "name": "stdout",
     "output_type": "stream",
     "text": [
      "Requirement already satisfied: obspy in /home/zmaw/u254070/anaconda3/envs/311/lib/python3.11/site-packages (1.4.0)\n",
      "Requirement already satisfied: pyproj in /home/zmaw/u254070/anaconda3/envs/311/lib/python3.11/site-packages (3.5.0)\n",
      "Requirement already satisfied: matplotlib in /home/zmaw/u254070/anaconda3/envs/311/lib/python3.11/site-packages (3.7.0)\n",
      "Requirement already satisfied: numpy>=1.20 in /home/zmaw/u254070/anaconda3/envs/311/lib/python3.11/site-packages (from obspy) (1.24.2)\n",
      "Requirement already satisfied: scipy>=1.7 in /home/zmaw/u254070/anaconda3/envs/311/lib/python3.11/site-packages (from obspy) (1.9.3)\n",
      "Requirement already satisfied: lxml in /home/zmaw/u254070/anaconda3/envs/311/lib/python3.11/site-packages (from obspy) (4.9.2)\n",
      "Requirement already satisfied: setuptools in /home/zmaw/u254070/anaconda3/envs/311/lib/python3.11/site-packages (from obspy) (67.3.1)\n",
      "Requirement already satisfied: sqlalchemy in /home/zmaw/u254070/anaconda3/envs/311/lib/python3.11/site-packages (from obspy) (2.0.3)\n",
      "Requirement already satisfied: decorator in /home/zmaw/u254070/anaconda3/envs/311/lib/python3.11/site-packages (from obspy) (5.1.1)\n",
      "Requirement already satisfied: requests in /home/zmaw/u254070/anaconda3/envs/311/lib/python3.11/site-packages (from obspy) (2.28.2)\n",
      "Requirement already satisfied: certifi in /home/zmaw/u254070/anaconda3/envs/311/lib/python3.11/site-packages (from pyproj) (2023.7.22)\n",
      "Requirement already satisfied: contourpy>=1.0.1 in /home/zmaw/u254070/anaconda3/envs/311/lib/python3.11/site-packages (from matplotlib) (1.0.7)\n",
      "Requirement already satisfied: cycler>=0.10 in /home/zmaw/u254070/anaconda3/envs/311/lib/python3.11/site-packages (from matplotlib) (0.11.0)\n",
      "Requirement already satisfied: fonttools>=4.22.0 in /home/zmaw/u254070/anaconda3/envs/311/lib/python3.11/site-packages (from matplotlib) (4.38.0)\n",
      "Requirement already satisfied: kiwisolver>=1.0.1 in /home/zmaw/u254070/anaconda3/envs/311/lib/python3.11/site-packages (from matplotlib) (1.4.4)\n",
      "Requirement already satisfied: packaging>=20.0 in /home/zmaw/u254070/anaconda3/envs/311/lib/python3.11/site-packages (from matplotlib) (23.0)\n",
      "Requirement already satisfied: pillow>=6.2.0 in /home/zmaw/u254070/anaconda3/envs/311/lib/python3.11/site-packages (from matplotlib) (9.4.0)\n",
      "Requirement already satisfied: pyparsing>=2.3.1 in /home/zmaw/u254070/anaconda3/envs/311/lib/python3.11/site-packages (from matplotlib) (3.0.9)\n",
      "Requirement already satisfied: python-dateutil>=2.7 in /home/zmaw/u254070/anaconda3/envs/311/lib/python3.11/site-packages (from matplotlib) (2.8.2)\n",
      "Requirement already satisfied: six>=1.5 in /home/zmaw/u254070/anaconda3/envs/311/lib/python3.11/site-packages (from python-dateutil>=2.7->matplotlib) (1.16.0)\n",
      "Requirement already satisfied: charset-normalizer<4,>=2 in /home/zmaw/u254070/anaconda3/envs/311/lib/python3.11/site-packages (from requests->obspy) (3.0.1)\n",
      "Requirement already satisfied: idna<4,>=2.5 in /home/zmaw/u254070/anaconda3/envs/311/lib/python3.11/site-packages (from requests->obspy) (3.4)\n",
      "Collecting urllib3<1.27,>=1.21.1\n",
      "  Downloading urllib3-1.26.19-py2.py3-none-any.whl (143 kB)\n",
      "\u001b[2K     \u001b[90m━━━━━━━━━━━━━━━━━━━━━━━━━━━━━━━━━━━━━━━\u001b[0m \u001b[32m143.9/143.9 kB\u001b[0m \u001b[31m2.0 MB/s\u001b[0m eta \u001b[36m0:00:00\u001b[0ma \u001b[36m0:00:01\u001b[0m\n",
      "\u001b[?25hRequirement already satisfied: typing-extensions>=4.2.0 in /home/zmaw/u254070/anaconda3/envs/311/lib/python3.11/site-packages (from sqlalchemy->obspy) (4.5.0)\n",
      "Requirement already satisfied: greenlet!=0.4.17 in /home/zmaw/u254070/anaconda3/envs/311/lib/python3.11/site-packages (from sqlalchemy->obspy) (2.0.2)\n",
      "Installing collected packages: urllib3\n",
      "  Attempting uninstall: urllib3\n",
      "    Found existing installation: urllib3 2.0.4\n",
      "    Uninstalling urllib3-2.0.4:\n",
      "      Successfully uninstalled urllib3-2.0.4\n",
      "Successfully installed urllib3-1.26.19\n"
     ]
    }
   ],
   "source": [
    "# !pip install obspy pyproj matplotlib"
   ]
  },
  {
   "cell_type": "code",
   "execution_count": 2,
   "metadata": {
    "ExecuteTime": {
     "end_time": "2023-12-13T18:04:30.775776Z",
     "start_time": "2023-12-13T18:04:29.049411Z"
    },
    "executionInfo": {
     "elapsed": 780,
     "status": "ok",
     "timestamp": 1701734221861,
     "user": {
      "displayName": "AurÃ©lien Mordret",
      "userId": "03158819886253845071"
     },
     "user_tz": -60
    },
    "id": "XLTeV2_cpg1b"
   },
   "outputs": [],
   "source": [
    "try:\n",
    "    import obspy\n",
    "\n",
    "    obspy.read()\n",
    "except TypeError:\n",
    "    # Needs to restart the runtime once, because obspy only works properly after restart.\n",
    "    print(\n",
    "        \"Stopping RUNTIME. If you run this code for the first time, this is expected. Colaboratory will restart automatically. Please run again.\"\n",
    "    )\n",
    "    exit()"
   ]
  },
  {
   "cell_type": "code",
   "execution_count": 3,
   "metadata": {
    "ExecuteTime": {
     "end_time": "2023-12-13T18:08:44.837688Z",
     "start_time": "2023-12-13T18:08:44.820734Z"
    },
    "executionInfo": {
     "elapsed": 1797,
     "status": "ok",
     "timestamp": 1701734226928,
     "user": {
      "displayName": "AurÃ©lien Mordret",
      "userId": "03158819886253845071"
     },
     "user_tz": -60
    },
    "id": "ZAx9kBklplf5"
   },
   "outputs": [],
   "source": [
    "import os\n",
    "\n",
    "import matplotlib.pyplot as plt\n",
    "import numpy as np\n",
    "import obspy\n",
    "from obspy import UTCDateTime, read\n",
    "from obspy.clients.fdsn import Client\n",
    "from obspy.signal.tf_misfit import cwt"
   ]
  },
  {
   "cell_type": "code",
   "execution_count": null,
   "metadata": {
    "ExecuteTime": {
     "end_time": "2023-12-13T18:23:18.427954Z",
     "start_time": "2023-12-13T18:21:11.417975Z"
    },
    "colab": {
     "base_uri": "https://localhost:8080/",
     "height": 1000,
     "output_embedded_package_id": "1ne6t_yhPAD7AWle2U4cMdUPUN2HwIUPz"
    },
    "executionInfo": {
     "elapsed": 242284,
     "status": "ok",
     "timestamp": 1701733745195,
     "user": {
      "displayName": "AurÃ©lien Mordret",
      "userId": "03158819886253845071"
     },
     "user_tz": -60
    },
    "id": "_ZTZ84xp8Ypd",
    "outputId": "3e317ffe-569d-4fa2-a4d7-43774f851e57"
   },
   "outputs": [],
   "source": [
    "client = Client(\"IRIS\")\n",
    "\n",
    "t0 = [UTCDateTime(\"2023/09/16 10:15:00\")]\n",
    "\n",
    "secin1hour = 3600\n",
    "\n",
    "daynum = 7\n",
    "\n",
    "for it in t0:\n",
    "    t1 = it\n",
    "    t2 = t1 + secin1hour * 24 * daynum\n",
    "\n",
    "    net = \"SG\"\n",
    "    sta = \"MEMB\"\n",
    "    loc = \"--\"\n",
    "    cha = \"LGZ\"\n",
    "\n",
    "    out = \"%s.%s.%s.mseed\" % (t1.strftime(\"%Y-%m-%d\"), net, sta)\n",
    "    if os.path.isfile(out):\n",
    "        stream = read(out)\n",
    "    else:\n",
    "        stream = client.get_waveforms(\n",
    "            network=net,\n",
    "            station=sta,\n",
    "            location=loc,\n",
    "            channel=cha,\n",
    "            starttime=t1,\n",
    "            endtime=t2,\n",
    "        )\n",
    "        stream.write(out)\n",
    "\n",
    "    stream.merge()\n",
    "    print(stream)\n",
    "    stream.decimate(10)\n",
    "    #     stream.trim(t1, t1+86400)\n",
    "\n",
    "    # stream.plot()\n",
    "    tr = stream[0]\n",
    "\n",
    "    npts = tr.stats.npts\n",
    "    dt = tr.stats.delta\n",
    "    t = np.linspace(0, dt * npts, npts) / (3600 * 24)\n",
    "    f_min = 5e-3\n",
    "    f_max = 25e-3\n",
    "\n",
    "    tr.detrend(\"linear\")\n",
    "    tr.taper(max_percentage=0.01)\n",
    "    tr.filter(\"bandpass\", freqmin=1e-3, freqmax=40e-3, corners=3, zerophase=True)\n",
    "\n",
    "    scalogram = cwt(tr.data, dt, 70, f_min, f_max, nf=350)\n",
    "\n",
    "    x, y = np.meshgrid(\n",
    "        t, np.logspace(np.log10(f_min), np.log10(f_max), scalogram.shape[0])\n",
    "    )\n",
    "\n",
    "    fig = plt.figure(figsize=(25, 6))\n",
    "    ax0 = fig.add_subplot(111)\n",
    "    im = ax0.pcolormesh(\n",
    "        x,\n",
    "        y * 1000,\n",
    "        np.log10(np.abs(scalogram)),\n",
    "        cmap=\"inferno\",\n",
    "        vmin=2,\n",
    "        vmax=4,\n",
    "        rasterized=True,\n",
    "    )\n",
    "    # plt.plot([t[0], t[-1]],[10.88, 10.88],'g:')\n",
    "    # plt.plot([t[0], t[-1]],[10.88+0.022, 10.88+0.022],'g--')\n",
    "    # plt.plot([t[0], t[-1]],[15.7e-3, 15.7e-3],'b--')\n",
    "    # plt.plot([t[0], t[-1]],[17.5e-3, 17.5e-3],'b--')\n",
    "    fig.colorbar(im, ax=ax0, label=\"log10(amplitude)\")\n",
    "    ax0.set_xlabel(\"Time after %s [days]\" % tr.stats.starttime)\n",
    "    ax0.set_ylabel(\"Frequency [mHz]\")\n",
    "    ax0.set_title(\n",
    "        \"%s-%s-%s-%s\"\n",
    "        % (tr.stats.network, tr.stats.station, tr.stats.location, tr.stats.channel)\n",
    "    )\n",
    "    # ax0.set_yscale('log')\n",
    "    ax0.set_ylim(f_min * 1000, f_max * 1000)\n",
    "    plt.savefig(\n",
    "        \"SGMEMB_VLP_Spectro_ %s.png\" % tr.stats.starttime.strftime(\"%Y-%m-%d\"), dpi=150\n",
    "    )\n",
    "    plt.savefig(\"SGMEMB_VLP_Spectro_%s.pdf\" % tr.stats.starttime.strftime(\"%Y-%m-%d\"))\n",
    "    plt.show()\n",
    "\n",
    "    del stream\n",
    "    del tr\n",
    "    del scalogram\n",
    "    del x\n",
    "    del y\n",
    "    del t\n",
    "    del fig"
   ]
  },
  {
   "cell_type": "code",
   "execution_count": null,
   "metadata": {},
   "outputs": [],
   "source": []
  }
 ],
 "metadata": {
  "colab": {
   "authorship_tag": "ABX9TyOw3kzoYnfoQyGddYfYQ5zm",
   "provenance": []
  },
  "kernelspec": {
   "display_name": "Python 3 (ipykernel)",
   "language": "python",
   "name": "python3"
  },
  "language_info": {
   "codemirror_mode": {
    "name": "ipython",
    "version": 3
   },
   "file_extension": ".py",
   "mimetype": "text/x-python",
   "name": "python",
   "nbconvert_exporter": "python",
   "pygments_lexer": "ipython3",
   "version": "3.11.0"
  }
 },
 "nbformat": 4,
 "nbformat_minor": 1
}
