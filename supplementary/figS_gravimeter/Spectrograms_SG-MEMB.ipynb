{
 "cells": [
  {
   "cell_type": "code",
   "execution_count": null,
   "metadata": {
    "colab": {
     "base_uri": "https://localhost:8080/",
     "height": 618
    },
    "executionInfo": {
     "elapsed": 15494,
     "status": "ok",
     "timestamp": 1701733476564,
     "user": {
      "displayName": "AurÃ©lien Mordret",
      "userId": "03158819886253845071"
     },
     "user_tz": -60
    },
    "id": "euHKeV9dpZ6j",
    "outputId": "e491fd28-1a50-4ca3-dd36-2f06639c0a9b"
   },
   "outputs": [],
   "source": [
    "!pip install obspy pyproj matplotlib"
   ]
  },
  {
   "cell_type": "code",
   "execution_count": null,
   "metadata": {
    "ExecuteTime": {
     "end_time": "2023-12-13T18:04:30.775776Z",
     "start_time": "2023-12-13T18:04:29.049411Z"
    },
    "executionInfo": {
     "elapsed": 780,
     "status": "ok",
     "timestamp": 1701734221861,
     "user": {
      "displayName": "AurÃ©lien Mordret",
      "userId": "03158819886253845071"
     },
     "user_tz": -60
    },
    "id": "XLTeV2_cpg1b"
   },
   "outputs": [],
   "source": [
    "try:\n",
    "    import obspy\n",
    "    obspy.read()\n",
    "except TypeError:\n",
    "    # Needs to restart the runtime once, because obspy only works properly after restart.\n",
    "    print('Stopping RUNTIME. If you run this code for the first time, this is expected. Colaboratory will restart automatically. Please run again.')\n",
    "    exit()"
   ]
  },
  {
   "cell_type": "code",
   "execution_count": null,
   "metadata": {
    "ExecuteTime": {
     "end_time": "2023-12-13T18:08:44.837688Z",
     "start_time": "2023-12-13T18:08:44.820734Z"
    },
    "executionInfo": {
     "elapsed": 1797,
     "status": "ok",
     "timestamp": 1701734226928,
     "user": {
      "displayName": "AurÃ©lien Mordret",
      "userId": "03158819886253845071"
     },
     "user_tz": -60
    },
    "id": "ZAx9kBklplf5"
   },
   "outputs": [],
   "source": [
    "import os\n",
    "\n",
    "import obspy\n",
    "from obspy.clients.fdsn import Client\n",
    "from obspy import UTCDateTime\n",
    "from obspy.imaging.cm import pqlx\n",
    "import matplotlib.pyplot as plt\n",
    "\n",
    "from obspy.imaging.cm import obspy_sequential\n",
    "from obspy.signal.tf_misfit import cwt\n",
    "\n",
    "from obspy import read\n",
    "from obspy.io.xseed import Parser\n",
    "from obspy.signal import PPSD\n",
    "\n",
    "from scipy.fftpack import fft, ifft\n",
    "\n",
    "import numpy as np"
   ]
  },
  {
   "cell_type": "code",
   "execution_count": null,
   "metadata": {
    "ExecuteTime": {
     "end_time": "2023-12-13T18:23:18.427954Z",
     "start_time": "2023-12-13T18:21:11.417975Z"
    },
    "colab": {
     "base_uri": "https://localhost:8080/",
     "height": 1000,
     "output_embedded_package_id": "1ne6t_yhPAD7AWle2U4cMdUPUN2HwIUPz"
    },
    "executionInfo": {
     "elapsed": 242284,
     "status": "ok",
     "timestamp": 1701733745195,
     "user": {
      "displayName": "AurÃ©lien Mordret",
      "userId": "03158819886253845071"
     },
     "user_tz": -60
    },
    "id": "_ZTZ84xp8Ypd",
    "outputId": "3e317ffe-569d-4fa2-a4d7-43774f851e57"
   },
   "outputs": [],
   "source": [
    "client = Client(\"IRIS\")\n",
    "\n",
    "t0 = [UTCDateTime(\"2023/09/16 10:15:00\")]\n",
    "\n",
    "secin1hour = 3600\n",
    "\n",
    "daynum=7\n",
    "\n",
    "for it in t0:\n",
    "\n",
    "    t1 = it\n",
    "    t2 = t1 + secin1hour * 24 *daynum\n",
    "\n",
    "\n",
    "    net=\"SG\"\n",
    "    sta='MEMB'\n",
    "    loc=\"--\"\n",
    "    cha='LGZ'\n",
    "    \n",
    "    out = \"%s.%s.%s.mseed\" % (t1.strftime(\"%Y-%m-%d\"), net, sta)\n",
    "    if os.path.isfile(out):\n",
    "        stream = read(out)\n",
    "    else:\n",
    "        stream = client.get_waveforms(network=net, station=sta, location=loc, channel=cha, starttime=t1, endtime=t2)\n",
    "        stream.write(out)\n",
    "\n",
    "    stream.merge()\n",
    "    print(stream)\n",
    "    stream.decimate(10)\n",
    "#     stream.trim(t1, t1+86400)\n",
    "\n",
    "    #stream.plot()\n",
    "    tr = stream[0]\n",
    "\n",
    "    npts = tr.stats.npts\n",
    "    dt = tr.stats.delta\n",
    "    t = np.linspace(0, dt * npts, npts)/(3600*24)\n",
    "    f_min = 5e-3\n",
    "    f_max = 25e-3\n",
    "\n",
    "\n",
    "    tr.detrend('linear')\n",
    "    tr.taper(max_percentage=0.01)\n",
    "    tr.filter('bandpass', freqmin=1e-3, freqmax=40e-3, corners=3, zerophase=True)\n",
    "\n",
    "    scalogram = cwt(tr.data, dt, 70, f_min, f_max,nf=350)\n",
    "\n",
    "    x, y = np.meshgrid(\n",
    "      t,\n",
    "      np.logspace(np.log10(f_min), np.log10(f_max), scalogram.shape[0]))\n",
    "\n",
    "    fig = plt.figure(figsize=(25,6))\n",
    "    ax0 = fig.add_subplot(111)\n",
    "    im=ax0.pcolormesh(x, y*1000, np.log10(np.abs(scalogram)), cmap='inferno',vmin=2, vmax=4,rasterized=True)\n",
    "    #plt.plot([t[0], t[-1]],[10.88, 10.88],'g:')\n",
    "    #plt.plot([t[0], t[-1]],[10.88+0.022, 10.88+0.022],'g--')\n",
    "    #plt.plot([t[0], t[-1]],[15.7e-3, 15.7e-3],'b--')\n",
    "    #plt.plot([t[0], t[-1]],[17.5e-3, 17.5e-3],'b--')\n",
    "    fig.colorbar(im, ax=ax0,label=\"log10(amplitude)\")\n",
    "    ax0.set_xlabel(\"Time after %s [days]\" % tr.stats.starttime)\n",
    "    ax0.set_ylabel(\"Frequency [mHz]\")\n",
    "    ax0.set_title(\"%s-%s-%s-%s\" %(tr.stats.network, tr.stats.station, tr.stats.location, tr.stats.channel))\n",
    "    #ax0.set_yscale('log')\n",
    "    ax0.set_ylim(f_min*1000, f_max*1000)\n",
    "    plt.savefig(\"SGMEMB_VLP_Spectro_ %s.png\" % tr.stats.starttime.strftime(\"%Y-%m-%d\"), dpi=150)\n",
    "    plt.savefig(\"SGMEMB_VLP_Spectro_%s.pdf\" % tr.stats.starttime.strftime(\"%Y-%m-%d\"))\n",
    "    plt.show()\n",
    "\n",
    "    del stream\n",
    "    del tr\n",
    "    del scalogram\n",
    "    del x\n",
    "    del y\n",
    "    del t\n",
    "    del fig"
   ]
  },
  {
   "cell_type": "code",
   "execution_count": null,
   "metadata": {},
   "outputs": [],
   "source": []
  }
 ],
 "metadata": {
  "colab": {
   "authorship_tag": "ABX9TyOw3kzoYnfoQyGddYfYQ5zm",
   "provenance": []
  },
  "kernelspec": {
   "display_name": "Python 3 (ipykernel)",
   "language": "python",
   "name": "python3"
  },
  "language_info": {
   "codemirror_mode": {
    "name": "ipython",
    "version": 3
   },
   "file_extension": ".py",
   "mimetype": "text/x-python",
   "name": "python",
   "nbconvert_exporter": "python",
   "pygments_lexer": "ipython3",
   "version": "3.10.9"
  }
 },
 "nbformat": 4,
 "nbformat_minor": 1
}
